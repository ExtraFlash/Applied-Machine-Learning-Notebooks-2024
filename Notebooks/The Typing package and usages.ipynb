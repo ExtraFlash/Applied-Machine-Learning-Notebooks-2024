{
 "cells": [
  {
   "cell_type": "markdown",
   "id": "c9bdc3d1",
   "metadata": {},
   "source": [
    "# Python Typing Library Tutorial"
   ]
  },
  {
   "cell_type": "markdown",
   "id": "15ceff76",
   "metadata": {},
   "source": [
    "## Introduction"
   ]
  },
  {
   "cell_type": "markdown",
   "id": "ac60f87a",
   "metadata": {},
   "source": [
    "Python's typing library provides support for type hints, which can be used to specify the expected types of variables, function arguments, return values, and class attributes. This helps in writing clearer code and aids tools like linters and IDEs in providing better support for catching type-related errors.\n",
    "\n",
    "In this tutorial, we will cover the basics of the typing library and demonstrate its use in object-oriented programming (OOP).\n"
   ]
  },
  {
   "cell_type": "markdown",
   "id": "02a2600c",
   "metadata": {},
   "source": [
    "## Basics of Typing"
   ]
  },
  {
   "cell_type": "markdown",
   "id": "405727ad",
   "metadata": {},
   "source": [
    "### Type Hints for Variables"
   ]
  },
  {
   "cell_type": "code",
   "execution_count": 5,
   "id": "636af08f",
   "metadata": {},
   "outputs": [],
   "source": [
    "from typing import List, Tuple, Dict, Optional"
   ]
  },
  {
   "cell_type": "code",
   "execution_count": 6,
   "id": "1c5b9cfe",
   "metadata": {},
   "outputs": [],
   "source": [
    "age: int = 25\n",
    "name: str = \"Alice\"\n",
    "scores: List[int] = [95, 85, 75]"
   ]
  },
  {
   "cell_type": "markdown",
   "id": "65e69cff",
   "metadata": {},
   "source": [
    "### Type Hints for Functions"
   ]
  },
  {
   "cell_type": "code",
   "execution_count": 7,
   "id": "b51cf189",
   "metadata": {},
   "outputs": [],
   "source": [
    "# Type hints can also be used in function signatures to specify the types of arguments and return values.\n",
    "\n",
    "def add(a: int, b: int) -> int:\n",
    "    return a + b\n",
    "\n",
    "def greet(name: str) -> str:\n",
    "    return f\"Hello, {name}!\""
   ]
  },
  {
   "cell_type": "markdown",
   "id": "56eadaeb",
   "metadata": {},
   "source": [
    "### Optional Type"
   ]
  },
  {
   "cell_type": "code",
   "execution_count": 8,
   "id": "9319ce95",
   "metadata": {},
   "outputs": [],
   "source": [
    "# Sometimes, a variable can have a value or be `None`. We can use `Optional` to indicate this.\n",
    "\n",
    "def get_user_id(username: str) -> Optional[int]:\n",
    "    users = {\"Alice\": 1, \"Bob\": 2}\n",
    "    return users.get(username)"
   ]
  },
  {
   "cell_type": "markdown",
   "id": "c88b6a9f",
   "metadata": {},
   "source": [
    "## Typing in Object-Oriented Programming"
   ]
  },
  {
   "cell_type": "code",
   "execution_count": 9,
   "id": "99843e5d",
   "metadata": {},
   "outputs": [],
   "source": [
    "# Let's dive into how typing is used in the context of OOP.\n",
    "\n",
    "from typing import Any"
   ]
  },
  {
   "cell_type": "markdown",
   "id": "d98e677e",
   "metadata": {},
   "source": [
    "### Example 1: Simple Class with Type Hints"
   ]
  },
  {
   "cell_type": "code",
   "execution_count": 10,
   "id": "5e351210",
   "metadata": {},
   "outputs": [],
   "source": [
    "# Here's a simple class that uses type hints for attributes and methods.\n",
    "\n",
    "class Person:\n",
    "    def __init__(self, name: str, age: int):\n",
    "        self.name: str = name\n",
    "        self.age: int = age\n",
    "\n",
    "    def introduce(self) -> str:\n",
    "        return f\"My name is {self.name}, and I am {self.age} years old.\""
   ]
  },
  {
   "cell_type": "markdown",
   "id": "1051f513",
   "metadata": {},
   "source": [
    "### Example 2: Class with List Attribute"
   ]
  },
  {
   "cell_type": "code",
   "execution_count": 11,
   "id": "5696a4d0",
   "metadata": {},
   "outputs": [],
   "source": [
    "# Let's create a `Classroom` class that holds a list of `Person` objects.\n",
    "\n",
    "class Classroom:\n",
    "    def __init__(self, students: List[Person]):\n",
    "        self.students: List[Person] = students\n",
    "\n",
    "    def get_student_names(self) -> List[str]:\n",
    "        return [student.name for student in self.students]"
   ]
  },
  {
   "cell_type": "markdown",
   "id": "3c5b0c70",
   "metadata": {},
   "source": [
    "### Example 3: Using Optional in a Class"
   ]
  },
  {
   "cell_type": "code",
   "execution_count": 12,
   "id": "229827a0",
   "metadata": {},
   "outputs": [],
   "source": [
    "# Let's modify the `Person` class to include an optional `nickname` attribute.\n",
    "\n",
    "class PersonWithNickname:\n",
    "    def __init__(self, name: str, age: int, nickname: Optional[str] = None):\n",
    "        self.name: str = name\n",
    "        self.age: int = age\n",
    "        self.nickname: Optional[str] = nickname\n",
    "\n",
    "    def introduce(self) -> str:\n",
    "        if self.nickname:\n",
    "            return f\"My name is {self.name}, but you can call me {self.nickname}.\"\n",
    "        else:\n",
    "            return f\"My name is {self.name}, and I am {self.age} years old.\""
   ]
  },
  {
   "cell_type": "markdown",
   "id": "9b86aa01",
   "metadata": {},
   "source": [
    "### Example 4: Generic Class"
   ]
  },
  {
   "cell_type": "code",
   "execution_count": 13,
   "id": "b01741aa",
   "metadata": {},
   "outputs": [],
   "source": [
    "# We can also create classes that are generic over a type parameter.\n",
    "\n",
    "from typing import TypeVar, Generic\n",
    "\n",
    "T = TypeVar('T')\n",
    "\n",
    "class Box(Generic[T]):\n",
    "    def __init__(self, content: T):\n",
    "        self.content: T = content\n",
    "\n",
    "    def get_content(self) -> T:\n",
    "        return self.content\n",
    "\n",
    "# This allows us to create `Box` objects that can hold any type.\n",
    "\n",
    "box_of_ints = Box \n",
    "box_of_strs = Box[str](\"Hello\")"
   ]
  },
  {
   "cell_type": "markdown",
   "id": "8cf6fdca",
   "metadata": {},
   "source": [
    "## Advanced Typing Concepts"
   ]
  },
  {
   "cell_type": "markdown",
   "id": "3876ba4a",
   "metadata": {},
   "source": [
    "### Union Type"
   ]
  },
  {
   "cell_type": "code",
   "execution_count": 14,
   "id": "65805a55",
   "metadata": {},
   "outputs": [],
   "source": [
    "# Sometimes, a variable can be one of several types. The `Union` type can be used to specify this.\n",
    "\n",
    "from typing import Union\n",
    "\n",
    "def process(value: Union[int, str]) -> str:\n",
    "    if isinstance(value, int):\n",
    "        return f\"Processing number {value}\"\n",
    "    elif isinstance(value, str):\n",
    "        return f\"Processing string '{value}'\""
   ]
  },
  {
   "cell_type": "markdown",
   "id": "cc6b4c81",
   "metadata": {},
   "source": [
    "### Custom Types"
   ]
  },
  {
   "cell_type": "code",
   "execution_count": 15,
   "id": "d3078e7d",
   "metadata": {},
   "outputs": [],
   "source": [
    "# We can also create our own custom types using `NewType`.\n",
    "\n",
    "from typing import NewType\n",
    "\n",
    "UserID = NewType('UserID', int)\n",
    "\n",
    "def get_user_name(user_id: UserID) -> str:\n",
    "    users = {UserID(1): \"Alice\", UserID(2): \"Bob\"}\n",
    "    return users.get(user_id, \"Unknown\")"
   ]
  },
  {
   "cell_type": "markdown",
   "id": "b4ca9b42",
   "metadata": {},
   "source": [
    "### Type Aliases"
   ]
  },
  {
   "cell_type": "code",
   "execution_count": 16,
   "id": "950f0c73",
   "metadata": {},
   "outputs": [],
   "source": [
    "# Type aliases can make complex types easier to work with.\n",
    "\n",
    "StudentList = List[Person]\n",
    "\n",
    "class School:\n",
    "    def __init__(self, students: StudentList):\n",
    "        self.students: StudentList = students\n",
    "\n",
    "    def get_total_students(self) -> int:\n",
    "        return len(self.students)"
   ]
  },
  {
   "cell_type": "markdown",
   "id": "f94bc744",
   "metadata": {},
   "source": [
    "## Typing in Data Science"
   ]
  },
  {
   "cell_type": "code",
   "execution_count": 17,
   "id": "3b2f1fea",
   "metadata": {},
   "outputs": [],
   "source": [
    "# The typing library can also be very useful in data science projects, \n",
    "# where you often deal with data manipulation, statistical models, and visualizations. \n",
    "# Here's how you can use typing to improve the clarity and reliability of your data science code.\n",
    "\n",
    "from typing import Any, Tuple\n",
    "import pandas as pd\n",
    "import numpy as np\n",
    "import matplotlib.pyplot as plt\n",
    "from sklearn.linear_model import LinearRegression\n",
    "from sklearn.model_selection import train_test_split\n",
    "from sklearn.metrics import mean_squared_error"
   ]
  },
  {
   "cell_type": "markdown",
   "id": "dfba55c3",
   "metadata": {},
   "source": [
    "### Example 1: Typing with Pandas DataFrames"
   ]
  },
  {
   "cell_type": "code",
   "execution_count": 18,
   "id": "6d2620f0",
   "metadata": {},
   "outputs": [],
   "source": [
    "# Let's start with typing for pandas DataFrames. Pandas does not yet have a native typing solution, but we can use `Any` or `pd.DataFrame` as a placeholder.\n",
    "\n",
    "def load_data(file_path: str) -> pd.DataFrame:\n",
    "    \"\"\"Loads a CSV file into a pandas DataFrame.\"\"\"\n",
    "    return pd.read_csv(file_path)\n",
    "\n",
    "def filter_data(df: pd.DataFrame, threshold: float) -> pd.DataFrame:\n",
    "    \"\"\"Filters the DataFrame based on a threshold value.\"\"\"\n",
    "    return df[df['value'] > threshold]\n",
    "\n",
    "# Example usage (assuming a CSV file with a 'value' column exists):\n",
    "# df = load_data('data.csv')\n",
    "# filtered_df = filter_data(df, 10.0)"
   ]
  },
  {
   "cell_type": "markdown",
   "id": "28630250",
   "metadata": {},
   "source": [
    "### Example 2: Linear Regression with Typing"
   ]
  },
  {
   "cell_type": "code",
   "execution_count": null,
   "id": "4f2c680a",
   "metadata": {},
   "outputs": [],
   "source": [
    "# Now, let's perform a simple linear regression and type the involved functions.\n",
    "\n",
    "def split_data(df: pd.DataFrame, target_column: str) -> Tuple[pd.DataFrame, pd.DataFrame, pd.Series, pd.Series]:\n",
    "    \"\"\"Splits the DataFrame into training and test sets.\"\"\"\n",
    "    X = df.drop(columns=[target_column])\n",
    "    y = df[target_column]\n",
    "    return train_test_split(X, y, test_size=0.2, random_state=42)\n",
    "\n",
    "def train_linear_regression(X_train: pd.DataFrame, y_train: pd.Series) -> LinearRegression:\n",
    "    \"\"\"Trains a linear regression model.\"\"\"\n",
    "    model = LinearRegression()\n",
    "    model.fit(X_train, y_train)\n",
    "    return model\n",
    "\n",
    "def evaluate_model(model: LinearRegression, X_test: pd.DataFrame, y_test: pd.Series) -> float:\n",
    "    \"\"\"Evaluates the model and returns the mean squared error.\"\"\"\n",
    "    predictions = model.predict(X_test)\n",
    "    return mean_squared_error(y_test, predictions)\n",
    "\n",
    "# Example usage (assuming df is a loaded DataFrame):\n",
    "# X_train, X_test, y_train, y_test = split_data(df, 'target')\n",
    "# model = train_linear_regression(X_train, y_train)\n",
    "# mse = evaluate_model(model, X_test, y_test)"
   ]
  },
  {
   "cell_type": "markdown",
   "id": "6ceee7f6",
   "metadata": {},
   "source": [
    "### Example 3: Plotting with Typing"
   ]
  },
  {
   "cell_type": "code",
   "execution_count": null,
   "id": "cdd344b6",
   "metadata": {},
   "outputs": [],
   "source": [
    "# Finally, let's see how typing can be applied to a function that generates a plot.\n",
    "\n",
    "def plot_regression_results(X_test: pd.DataFrame, y_test: pd.Series, predictions: np.ndarray) -> None:\n",
    "    \"\"\"Plots the results of the linear regression model.\"\"\"\n",
    "    plt.scatter(X_test.iloc[:, 0], y_test, color='blue', label='Actual')\n",
    "    plt.scatter(X_test.iloc[:, 0], predictions, color='red', label='Predicted')\n",
    "    plt.xlabel('Feature')\n",
    "    plt.ylabel('Target')\n",
    "    plt.legend()\n",
    "    plt.show()\n",
    "\n",
    "# Example usage:\n",
    "# predictions = model.predict(X_test)\n",
    "# plot_regression_results(X_test, y_test, predictions)"
   ]
  },
  {
   "cell_type": "markdown",
   "id": "73b96703",
   "metadata": {},
   "source": [
    "## Conclusion\n",
    "**Typing can enhance the clarity and maintainability of your data science code, particularly when dealing with complex data manipulations, model training, and visualizations. By specifying types for your functions, you make your code more robust and easier to understand.**\n",
    "\n",
    "**These examples demonstrate how to integrate the typing library into a typical data science workflow involving data loading, filtering, modeling, and visualization. As data science projects often involve collaboration, using type hints can greatly improve communication between team members.**"
   ]
  }
 ],
 "metadata": {
  "kernelspec": {
   "display_name": "Python 3 (ipykernel)",
   "language": "python",
   "name": "python3"
  },
  "language_info": {
   "codemirror_mode": {
    "name": "ipython",
    "version": 3
   },
   "file_extension": ".py",
   "mimetype": "text/x-python",
   "name": "python",
   "nbconvert_exporter": "python",
   "pygments_lexer": "ipython3",
   "version": "3.11.5"
  }
 },
 "nbformat": 4,
 "nbformat_minor": 5
}
